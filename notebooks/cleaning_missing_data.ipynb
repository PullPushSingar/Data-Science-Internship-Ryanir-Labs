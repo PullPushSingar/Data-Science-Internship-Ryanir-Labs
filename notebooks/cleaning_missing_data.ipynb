{
 "cells": [
  {
   "cell_type": "markdown",
   "id": "3d3894f1",
   "metadata": {},
   "source": [
    "# Load packages"
   ]
  },
  {
   "cell_type": "code",
   "execution_count": 24,
   "id": "9702b9a0",
   "metadata": {},
   "outputs": [],
   "source": [
    "import pandas as pd\n",
    "import numpy as np"
   ]
  },
  {
   "cell_type": "markdown",
   "id": "292b0bb3",
   "metadata": {},
   "source": [
    "# Load raw training data"
   ]
  },
  {
   "cell_type": "code",
   "execution_count": 25,
   "id": "a8d9e112",
   "metadata": {},
   "outputs": [],
   "source": [
    "df = pd.read_csv(\"../data/training.csv\", sep=\"\\t\")\n"
   ]
  },
  {
   "cell_type": "markdown",
   "id": "5acaa7fd",
   "metadata": {},
   "source": [
    "# Prepare file"
   ]
  },
  {
   "cell_type": "code",
   "execution_count": 26,
   "id": "cc63020b",
   "metadata": {},
   "outputs": [],
   "source": [
    "df.replace(\"(null)\", np.nan, inplace=True)\n",
    "df.rename(columns={\"FLownPassengers\": \"FlownPassengers\"}, inplace=True)\n",
    "num_cols = ['ActualFlightTime', 'ActualTotalFuel', 'FlownPassengers', 'FlightBagsWeight', 'BagsCount', 'ActualTOW']\n",
    "df[num_cols] = df[num_cols].apply(pd.to_numeric, errors='coerce')"
   ]
  },
  {
   "cell_type": "markdown",
   "id": "e1241ced",
   "metadata": {},
   "source": [
    "# Check missing values per column"
   ]
  },
  {
   "cell_type": "code",
   "execution_count": 27,
   "id": "4bafaa52",
   "metadata": {},
   "outputs": [
    {
     "name": "stdout",
     "output_type": "stream",
     "text": [
      "Missing values in numeric columns:\n",
      " ActualFlightTime       0\n",
      "ActualTotalFuel        0\n",
      "FlownPassengers       95\n",
      "FlightBagsWeight    2478\n",
      "BagsCount           2284\n",
      "ActualTOW            433\n",
      "dtype: int64\n"
     ]
    }
   ],
   "source": [
    "missing_counts = df[num_cols].isnull().sum()\n",
    "print(\"Missing values in numeric columns:\\n\", missing_counts)"
   ]
  },
  {
   "cell_type": "markdown",
   "id": "dc2a8daf",
   "metadata": {},
   "source": [
    "# Option A — Drop rows with any missing value in numeric columns"
   ]
  },
  {
   "cell_type": "code",
   "execution_count": 28,
   "id": "aedc92da",
   "metadata": {},
   "outputs": [],
   "source": [
    "df_cleaned = df.dropna(subset=num_cols)"
   ]
  },
  {
   "cell_type": "markdown",
   "id": "7e935ba2",
   "metadata": {},
   "source": [
    "# show how much data was removed"
   ]
  },
  {
   "cell_type": "code",
   "execution_count": 29,
   "id": "f32aa24c",
   "metadata": {},
   "outputs": [
    {
     "name": "stdout",
     "output_type": "stream",
     "text": [
      "Original size: 29731, After cleaning: 26800\n"
     ]
    }
   ],
   "source": [
    "print(f\"Original size: {df.shape[0]}, After cleaning: {df_cleaned.shape[0]}\")"
   ]
  },
  {
   "cell_type": "markdown",
   "id": "9563f3b6",
   "metadata": {},
   "source": [
    "# Save the cleaned dataset (optional step)"
   ]
  },
  {
   "cell_type": "code",
   "execution_count": 30,
   "id": "0ebbac50",
   "metadata": {},
   "outputs": [],
   "source": [
    "df_cleaned.to_csv(\"../data/processed/training_numeric_cleaned.csv\", index=False, sep=\"\\t\")"
   ]
  },
  {
   "cell_type": "markdown",
   "id": "1c940aa8",
   "metadata": {},
   "source": [
    "\n",
    "print(\"✅ Cleaned numeric data saved.\")"
   ]
  }
 ],
 "metadata": {
  "kernelspec": {
   "display_name": "ryanair_regression",
   "language": "python",
   "name": "python3"
  },
  "language_info": {
   "codemirror_mode": {
    "name": "ipython",
    "version": 3
   },
   "file_extension": ".py",
   "mimetype": "text/x-python",
   "name": "python",
   "nbconvert_exporter": "python",
   "pygments_lexer": "ipython3",
   "version": "3.10.16"
  }
 },
 "nbformat": 4,
 "nbformat_minor": 5
}
