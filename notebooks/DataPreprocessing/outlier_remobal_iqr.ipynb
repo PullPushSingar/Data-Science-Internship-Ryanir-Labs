{
 "cells": [
  {
   "cell_type": "markdown",
   "id": "4b237c3d",
   "metadata": {},
   "source": [
    "# Load Packages"
   ]
  },
  {
   "cell_type": "code",
   "execution_count": 16,
   "id": "77356447",
   "metadata": {},
   "outputs": [],
   "source": [
    "import pandas as pd\n",
    "import numpy as np\n",
    "import os"
   ]
  },
  {
   "cell_type": "markdown",
   "id": "5459d337",
   "metadata": {},
   "source": [
    "# Prepare file"
   ]
  },
  {
   "cell_type": "code",
   "execution_count": 17,
   "id": "046828aa",
   "metadata": {},
   "outputs": [],
   "source": [
    "df = pd.read_csv(\"../../data/training.csv\", sep=\"\\t\")\n",
    "df.replace(\"(null)\", np.nan, inplace=True)\n",
    "df.rename(columns={\"FLownPassengers\": \"FlownPassengers\"}, inplace=True)\n",
    "num_cols = ['ActualFlightTime', 'ActualTotalFuel', 'FlownPassengers', 'FlightBagsWeight', 'BagsCount', 'ActualTOW']\n",
    "df[num_cols] = df[num_cols].apply(pd.to_numeric, errors='coerce')"
   ]
  },
  {
   "cell_type": "markdown",
   "id": "470bf83f",
   "metadata": {},
   "source": [
    "# Drop rows with missing values in numeric columns"
   ]
  },
  {
   "cell_type": "code",
   "execution_count": 18,
   "id": "66730b36",
   "metadata": {},
   "outputs": [],
   "source": [
    "df_clean = df.dropna(subset=num_cols)"
   ]
  },
  {
   "cell_type": "markdown",
   "id": "73bd2621",
   "metadata": {},
   "source": [
    "# Outlier removal using IQR for each numeric column"
   ]
  },
  {
   "cell_type": "code",
   "execution_count": 19,
   "id": "50927f3b",
   "metadata": {},
   "outputs": [
    {
     "name": "stdout",
     "output_type": "stream",
     "text": [
      "Column: ActualFlightTime | Removed: 496 rows\n",
      "Column: ActualTotalFuel | Removed: 209 rows\n",
      "Column: FlownPassengers | Removed: 2049 rows\n",
      "Column: FlightBagsWeight | Removed: 359 rows\n",
      "Column: BagsCount | Removed: 151 rows\n",
      "Column: ActualTOW | Removed: 39 rows\n"
     ]
    }
   ],
   "source": [
    "def remove_outliers_iqr(data, columns):\n",
    "    df_out = data.copy()\n",
    "    for col in columns:\n",
    "        Q1 = df_out[col].quantile(0.25)\n",
    "        Q3 = df_out[col].quantile(0.75)\n",
    "        IQR = Q3 - Q1\n",
    "        lower = Q1 - 1.5 * IQR\n",
    "        upper = Q3 + 1.5 * IQR\n",
    "        before = df_out.shape[0]\n",
    "        df_out = df_out[(df_out[col] >= lower) & (df_out[col] <= upper)]\n",
    "        after = df_out.shape[0]\n",
    "        print(f\"Column: {col} | Removed: {before - after} rows\")\n",
    "    return df_out\n",
    "\n",
    "df_no_outliers = remove_outliers_iqr(df_clean, num_cols)"
   ]
  },
  {
   "cell_type": "markdown",
   "id": "88e5679a",
   "metadata": {},
   "source": [
    "# Save to processed folder with tab separator"
   ]
  },
  {
   "cell_type": "code",
   "execution_count": 20,
   "id": "41e92481",
   "metadata": {},
   "outputs": [
    {
     "name": "stdout",
     "output_type": "stream",
     "text": [
      "✅ Final dataset shape after IQR-based outlier removal: (23497, 14)\n"
     ]
    }
   ],
   "source": [
    "os.makedirs(\"../../data/processed\", exist_ok=True)\n",
    "df_no_outliers.to_csv(\"../../data/processed/training_outlier_removed.csv\", sep=\"\\t\", index=False)\n",
    "print(f\"✅ Final dataset shape after IQR-based outlier removal: {df_no_outliers.shape}\")"
   ]
  }
 ],
 "metadata": {
  "kernelspec": {
   "display_name": "ryanair_regression",
   "language": "python",
   "name": "python3"
  },
  "language_info": {
   "codemirror_mode": {
    "name": "ipython",
    "version": 3
   },
   "file_extension": ".py",
   "mimetype": "text/x-python",
   "name": "python",
   "nbconvert_exporter": "python",
   "pygments_lexer": "ipython3",
   "version": "3.10.16"
  }
 },
 "nbformat": 4,
 "nbformat_minor": 5
}
