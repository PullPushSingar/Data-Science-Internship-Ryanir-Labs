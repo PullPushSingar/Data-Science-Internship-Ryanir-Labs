{
 "cells": [
  {
   "cell_type": "markdown",
   "id": "3c02768f",
   "metadata": {},
   "source": [
    "# Load Packages"
   ]
  },
  {
   "cell_type": "code",
   "execution_count": 13,
   "id": "d8fee89d",
   "metadata": {},
   "outputs": [],
   "source": [
    "import pandas as pd\n",
    "import numpy as np\n",
    "from scipy.stats.mstats import winsorize\n",
    "import os"
   ]
  },
  {
   "cell_type": "markdown",
   "id": "20749996",
   "metadata": {},
   "source": [
    "# Load cleaned numeric dataset (tab-separated)"
   ]
  },
  {
   "cell_type": "code",
   "execution_count": 14,
   "id": "88f35562",
   "metadata": {},
   "outputs": [],
   "source": [
    "df = pd.read_csv(\"../../data/processed/training_numeric_cleaned.csv\", sep=\"\\t\")"
   ]
  },
  {
   "cell_type": "markdown",
   "id": "534b73f3",
   "metadata": {},
   "source": [
    "# Define numeric columns"
   ]
  },
  {
   "cell_type": "code",
   "execution_count": 15,
   "id": "9e08b128",
   "metadata": {},
   "outputs": [],
   "source": [
    "num_cols = ['ActualFlightTime', 'ActualTotalFuel', 'FlownPassengers',\n",
    "            'FlightBagsWeight', 'BagsCount', 'ActualTOW']"
   ]
  },
  {
   "cell_type": "markdown",
   "id": "d81149d5",
   "metadata": {},
   "source": [
    "# Function to apply winsorization to a column"
   ]
  },
  {
   "cell_type": "code",
   "execution_count": 16,
   "id": "942a6aa7",
   "metadata": {},
   "outputs": [],
   "source": [
    "def winsorize_column(series, limits=(0.01, 0.01)):\n",
    "    return pd.Series(winsorize(series, limits=limits), index=series.index)"
   ]
  },
  {
   "cell_type": "markdown",
   "id": "ea43e40f",
   "metadata": {},
   "source": [
    "# Apply winsorization to all numeric columns"
   ]
  },
  {
   "cell_type": "code",
   "execution_count": 17,
   "id": "b715c83e",
   "metadata": {},
   "outputs": [
    {
     "name": "stdout",
     "output_type": "stream",
     "text": [
      "ActualFlightTime: min 2.00 → 31.00, max 1440.00 → 249.00\n",
      "ActualTotalFuel: min 720.00 → 1540.00, max 14090.00 → 10856.00\n",
      "FlownPassengers: min 13.00 → 84.00, max 189.00 → 187.00\n",
      "FlightBagsWeight: min 6.00 → 50.00, max 10530.00 → 1600.00\n",
      "BagsCount: min 1.00 → 4.00, max 1180.00 → 126.00\n",
      "ActualTOW: min 49322.00 → 55671.00, max 74283.00 → 72614.00\n"
     ]
    }
   ],
   "source": [
    "df_winsorized = df.copy()\n",
    "for col in num_cols:\n",
    "    original_min = df[col].min()\n",
    "    original_max = df[col].max()\n",
    "    df_winsorized[col] = winsorize_column(df[col])\n",
    "    print(f\"{col}: min {original_min:.2f} → {df_winsorized[col].min():.2f}, \"\n",
    "          f\"max {original_max:.2f} → {df_winsorized[col].max():.2f}\")"
   ]
  },
  {
   "cell_type": "markdown",
   "id": "0870e6fa",
   "metadata": {},
   "source": [
    "Save the winsorized dataset"
   ]
  },
  {
   "cell_type": "code",
   "execution_count": 18,
   "id": "de55b459",
   "metadata": {},
   "outputs": [
    {
     "name": "stdout",
     "output_type": "stream",
     "text": [
      "✅ Winsorized dataset saved. Shape: (26800, 14)\n"
     ]
    }
   ],
   "source": [
    "os.makedirs(\"../../data/processed\", exist_ok=True)\n",
    "df_winsorized.to_csv(\"../../data/processed/training_winsorized.csv\", sep=\"\\t\", index=False)\n",
    "\n",
    "print(f\"✅ Winsorized dataset saved. Shape: {df_winsorized.shape}\")"
   ]
  }
 ],
 "metadata": {
  "kernelspec": {
   "display_name": "ryanair_regression",
   "language": "python",
   "name": "python3"
  },
  "language_info": {
   "codemirror_mode": {
    "name": "ipython",
    "version": 3
   },
   "file_extension": ".py",
   "mimetype": "text/x-python",
   "name": "python",
   "nbconvert_exporter": "python",
   "pygments_lexer": "ipython3",
   "version": "3.10.16"
  }
 },
 "nbformat": 4,
 "nbformat_minor": 5
}
