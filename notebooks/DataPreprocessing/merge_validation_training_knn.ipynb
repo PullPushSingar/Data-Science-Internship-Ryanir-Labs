{
 "cells": [
  {
   "cell_type": "markdown",
   "id": "b9e955a0",
   "metadata": {},
   "source": [
    "# Load Packages"
   ]
  },
  {
   "cell_type": "code",
   "execution_count": 32,
   "id": "7f755c85",
   "metadata": {},
   "outputs": [],
   "source": [
    "import pandas as pd\n",
    "from sklearn.impute import KNNImputer\n",
    "from sklearn.preprocessing import StandardScaler"
   ]
  },
  {
   "cell_type": "markdown",
   "id": "ebf4aa61",
   "metadata": {},
   "source": [
    "# Load Data"
   ]
  },
  {
   "cell_type": "code",
   "execution_count": 33,
   "id": "6d197def",
   "metadata": {},
   "outputs": [],
   "source": [
    "df_train = pd.read_csv(\"../../data/processed/training_numeric_cleaned.csv\", sep=\"\\t\", na_values=[\"(null)\"])\n",
    "df_val = pd.read_csv(\"../../data/validation.csv\", sep=\"\\t\", na_values=[\"(null)\"])"
   ]
  },
  {
   "cell_type": "markdown",
   "id": "904503a6",
   "metadata": {},
   "source": [
    "# Add pointer column"
   ]
  },
  {
   "cell_type": "code",
   "execution_count": 34,
   "id": "e1e6609c",
   "metadata": {},
   "outputs": [],
   "source": [
    "df_train[\"is_train\"] = 1\n",
    "df_val[\"is_train\"] = 0"
   ]
  },
  {
   "cell_type": "markdown",
   "id": "5b6a20f9",
   "metadata": {},
   "source": [
    "# Merge data"
   ]
  },
  {
   "cell_type": "code",
   "execution_count": 35,
   "id": "82ddf4c3",
   "metadata": {},
   "outputs": [
    {
     "name": "stdout",
     "output_type": "stream",
     "text": [
      "['DepartureDate', 'DepartureYear', 'DepartureMonth', 'DepartureDay', 'FlightNumber', 'DepartureAirport', 'ArrivalAirport', 'Route', 'ActualFlightTime', 'ActualTotalFuel', 'ActualTOW', 'FlownPassengers', 'BagsCount', 'FlightBagsWeight', 'is_train', 'FLownPassengers']\n"
     ]
    }
   ],
   "source": [
    "df_all = pd.concat([df_train, df_val], ignore_index=True)\n",
    "print(df_all.columns.tolist())\n"
   ]
  },
  {
   "cell_type": "markdown",
   "id": "59170a04",
   "metadata": {},
   "source": [
    "# Choose right column"
   ]
  },
  {
   "cell_type": "code",
   "execution_count": 36,
   "id": "52a45043",
   "metadata": {},
   "outputs": [],
   "source": [
    "num_cols = ['ActualFlightTime', 'ActualTotalFuel', 'FLownPassengers', 'BagsCount', 'FlightBagsWeight']\n"
   ]
  },
  {
   "cell_type": "markdown",
   "id": "edda6a56",
   "metadata": {},
   "source": [
    "# Standarization before K-nn"
   ]
  },
  {
   "cell_type": "code",
   "execution_count": 37,
   "id": "f8281e92",
   "metadata": {},
   "outputs": [],
   "source": [
    "scaler = StandardScaler()\n",
    "df_all_scaled = df_all.copy()\n",
    "df_all_scaled[num_cols] = scaler.fit_transform(df_all[num_cols])"
   ]
  },
  {
   "cell_type": "markdown",
   "id": "d77e28a5",
   "metadata": {},
   "source": [
    "# K-nn"
   ]
  },
  {
   "cell_type": "code",
   "execution_count": null,
   "id": "c5fd08cc",
   "metadata": {},
   "outputs": [],
   "source": [
    "imputer = KNNImputer(n_neighbors=5)\n",
    "df_all_scaled[num_cols] = imputer.fit_transform(df_all_scaled[num_cols])\n",
    "df_all[num_cols] = scaler.inverse_transform(df_all_scaled[num_cols])\n",
    "df_val_cleaned = df_all[df_all[\"is_train\"] == 0].drop(columns=[\"is_train\", \"ActualTOW\"])\n",
    "df_train_cleaned = df_all[df_all[\"is_train\"] == 1].drop(columns=[\"is_train\"])\n",
    "df_val_cleaned = df_val_cleaned.round(1)\n",
    "df_val_cleaned.to_csv(\"../../data/processed/validation_imputed_knn.csv\", index=False, sep=\"\\t\")\n"
   ]
  }
 ],
 "metadata": {
  "kernelspec": {
   "display_name": "ryanair_regression",
   "language": "python",
   "name": "python3"
  },
  "language_info": {
   "codemirror_mode": {
    "name": "ipython",
    "version": 3
   },
   "file_extension": ".py",
   "mimetype": "text/x-python",
   "name": "python",
   "nbconvert_exporter": "python",
   "pygments_lexer": "ipython3",
   "version": "3.10.16"
  }
 },
 "nbformat": 4,
 "nbformat_minor": 5
}
