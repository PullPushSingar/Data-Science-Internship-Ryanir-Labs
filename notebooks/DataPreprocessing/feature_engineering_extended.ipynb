{
 "cells": [
  {
   "cell_type": "markdown",
   "id": "3fdee987",
   "metadata": {},
   "source": [
    "# Load Packages"
   ]
  },
  {
   "cell_type": "code",
   "execution_count": 31,
   "id": "e546ae91",
   "metadata": {},
   "outputs": [],
   "source": [
    "\n",
    "import pandas as pd\n",
    "import numpy as np\n",
    "from sklearn.preprocessing import PolynomialFeatures"
   ]
  },
  {
   "cell_type": "markdown",
   "id": "76013794",
   "metadata": {},
   "source": [
    "# Load Data"
   ]
  },
  {
   "cell_type": "code",
   "execution_count": 32,
   "id": "c6ef8795",
   "metadata": {},
   "outputs": [],
   "source": [
    "df = pd.read_csv(\"../../data/processed/training_winsorized.csv\", sep=\"\\t\")"
   ]
  },
  {
   "cell_type": "markdown",
   "id": "ce578174",
   "metadata": {},
   "source": [
    "# Create engineering features"
   ]
  },
  {
   "cell_type": "code",
   "execution_count": 33,
   "id": "7ec92e79",
   "metadata": {},
   "outputs": [],
   "source": [
    "df[\"FuelPerPassenger\"] = df[\"ActualTotalFuel\"] / df[\"FlownPassengers\"].replace(0, np.nan)\n",
    "df[\"AvgBagWeight\"] = df[\"FlightBagsWeight\"] / df[\"BagsCount\"].replace(0, np.nan)\n",
    "df[\"TotalPayloadEstimate\"] = df[\"FlownPassengers\"] * 80 + df[\"FlightBagsWeight\"]"
   ]
  },
  {
   "cell_type": "markdown",
   "id": "ceec0cb0",
   "metadata": {},
   "source": [
    "# Processing file"
   ]
  },
  {
   "cell_type": "code",
   "execution_count": 34,
   "id": "3e3cdad1",
   "metadata": {},
   "outputs": [],
   "source": [
    "df = df.fillna(0)\n",
    "\n",
    "selected_features = [\"ActualFlightTime\", \"ActualTotalFuel\", \"FuelPerPassenger\", \"AvgBagWeight\", \"TotalPayloadEstimate\"]\n",
    "poly = PolynomialFeatures(degree=2, include_bias=False)\n",
    "poly_features = poly.fit_transform(df[selected_features])\n",
    "poly_feature_names = poly.get_feature_names_out(selected_features)\n",
    "\n",
    "df_poly = pd.DataFrame(poly_features, columns=poly_feature_names)\n",
    "df = df.drop(columns=selected_features).reset_index(drop=True)\n",
    "df_final = pd.concat([df, df_poly], axis=1)"
   ]
  },
  {
   "cell_type": "markdown",
   "id": "8f1e6202",
   "metadata": {},
   "source": [
    "# Save file"
   ]
  },
  {
   "cell_type": "code",
   "execution_count": 35,
   "id": "e2a0caba",
   "metadata": {},
   "outputs": [],
   "source": [
    "\n",
    "df_final.to_csv(\"../../data/processed/extended_features/training_winsorized.csv\", index=False, sep=\"\\t\")"
   ]
  }
 ],
 "metadata": {
  "kernelspec": {
   "display_name": "ryanair_regression",
   "language": "python",
   "name": "python3"
  },
  "language_info": {
   "codemirror_mode": {
    "name": "ipython",
    "version": 3
   },
   "file_extension": ".py",
   "mimetype": "text/x-python",
   "name": "python",
   "nbconvert_exporter": "python",
   "pygments_lexer": "ipython3",
   "version": "3.10.16"
  }
 },
 "nbformat": 4,
 "nbformat_minor": 5
}
