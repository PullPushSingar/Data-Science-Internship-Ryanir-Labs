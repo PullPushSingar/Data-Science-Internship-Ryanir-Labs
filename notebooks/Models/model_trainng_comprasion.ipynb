{
 "cells": [
  {
   "cell_type": "markdown",
   "id": "d14bb8d7",
   "metadata": {},
   "source": [
    "# Load Packages"
   ]
  },
  {
   "cell_type": "code",
   "execution_count": 24,
   "id": "5e7574be",
   "metadata": {},
   "outputs": [],
   "source": [
    "import pandas as pd\n",
    "import numpy as np\n",
    "from sklearn.linear_model import LinearRegression\n",
    "from sklearn.metrics import mean_squared_error, mean_absolute_error\n",
    "from sklearn.model_selection import train_test_split\n",
    "import matplotlib.pyplot as plt"
   ]
  },
  {
   "cell_type": "markdown",
   "id": "ce3e5d30",
   "metadata": {},
   "source": [
    "# Paths to datasets\n"
   ]
  },
  {
   "cell_type": "code",
   "execution_count": 25,
   "id": "95b1a2d2",
   "metadata": {},
   "outputs": [],
   "source": [
    "paths = {\n",
    "    \"Raw\": \"../../data/processed/training_numeric_cleaned.csv\",\n",
    "    \"IQR\": \"../../data/processed/training_outlier_removed.csv\",\n",
    "    \"Winsorized\": \"../../data/processed/training_winsorized.csv\"\n",
    "}"
   ]
  },
  {
   "cell_type": "markdown",
   "id": "4441a70f",
   "metadata": {},
   "source": [
    "# Define target column"
   ]
  },
  {
   "cell_type": "code",
   "execution_count": 26,
   "id": "4b086dda",
   "metadata": {},
   "outputs": [],
   "source": [
    "target_col = \"ActualTOW\""
   ]
  },
  {
   "cell_type": "markdown",
   "id": "b0b8d915",
   "metadata": {},
   "source": [
    "# Dictionary to store results"
   ]
  },
  {
   "cell_type": "code",
   "execution_count": 27,
   "id": "ee7d0a21",
   "metadata": {},
   "outputs": [
    {
     "name": "stdout",
     "output_type": "stream",
     "text": [
      "\n",
      "📂 Dataset: Raw\n",
      "🔍 RMSE: 1010.30 | MAE: 749.21\n",
      "\n",
      "📂 Dataset: IQR\n",
      "🔍 RMSE: 929.90 | MAE: 682.16\n",
      "\n",
      "📂 Dataset: Winsorized\n",
      "🔍 RMSE: 938.48 | MAE: 685.67\n"
     ]
    },
    {
     "name": "stderr",
     "output_type": "stream",
     "text": [
      "c:\\Users\\huber\\anaconda3\\envs\\ryanair_regression\\lib\\site-packages\\sklearn\\metrics\\_regression.py:483: FutureWarning: 'squared' is deprecated in version 1.4 and will be removed in 1.6. To calculate the root mean squared error, use the function'root_mean_squared_error'.\n",
      "  warnings.warn(\n",
      "c:\\Users\\huber\\anaconda3\\envs\\ryanair_regression\\lib\\site-packages\\sklearn\\metrics\\_regression.py:483: FutureWarning: 'squared' is deprecated in version 1.4 and will be removed in 1.6. To calculate the root mean squared error, use the function'root_mean_squared_error'.\n",
      "  warnings.warn(\n",
      "c:\\Users\\huber\\anaconda3\\envs\\ryanair_regression\\lib\\site-packages\\sklearn\\metrics\\_regression.py:483: FutureWarning: 'squared' is deprecated in version 1.4 and will be removed in 1.6. To calculate the root mean squared error, use the function'root_mean_squared_error'.\n",
      "  warnings.warn(\n"
     ]
    }
   ],
   "source": [
    "results = {}\n",
    "\n",
    "for label, path in paths.items():\n",
    "    print(f\"\\n📂 Dataset: {label}\")\n",
    "    \n",
    "    # 1. Load data\n",
    "    df = pd.read_csv(path, sep=\"\\t\")\n",
    "\n",
    "    # 2. Select numerical columns only (excluding encoded categories if present)\n",
    "    X = df.drop(columns=[target_col])\n",
    "    y = df[target_col]\n",
    "\n",
    "    # Optional: remove non-numeric columns (in case one-hot not used yet)\n",
    "    X = X.select_dtypes(include=[np.number])\n",
    "\n",
    "    # 3. Train-test split\n",
    "    X_train, X_test, y_train, y_test = train_test_split(X, y, test_size=0.2, random_state=42)\n",
    "\n",
    "    # 4. Train Linear Regression\n",
    "    model = LinearRegression()\n",
    "    model.fit(X_train, y_train)\n",
    "\n",
    "    # 5. Predict and evaluate\n",
    "    y_pred = model.predict(X_test)\n",
    "    rmse = mean_squared_error(y_test, y_pred, squared=False)\n",
    "    mae = mean_absolute_error(y_test, y_pred)\n",
    "\n",
    "    results[label] = {\"RMSE\": rmse, \"MAE\": mae}\n",
    "    print(f\"🔍 RMSE: {rmse:.2f} | MAE: {mae:.2f}\")"
   ]
  },
  {
   "cell_type": "markdown",
   "id": "833f599b",
   "metadata": {},
   "source": [
    "# Compare results"
   ]
  },
  {
   "cell_type": "code",
   "execution_count": 28,
   "id": "7d5f4282",
   "metadata": {},
   "outputs": [
    {
     "name": "stdout",
     "output_type": "stream",
     "text": [
      "\n",
      "📊 Summary of Results:\n",
      "Raw          → RMSE: 1010.30 | MAE: 749.21\n",
      "IQR          → RMSE: 929.90 | MAE: 682.16\n",
      "Winsorized   → RMSE: 938.48 | MAE: 685.67\n"
     ]
    }
   ],
   "source": [
    "print(\"\\n📊 Summary of Results:\")\n",
    "for key, metrics in results.items():\n",
    "    print(f\"{key:12} → RMSE: {metrics['RMSE']:.2f} | MAE: {metrics['MAE']:.2f}\")\n",
    "    "
   ]
  },
  {
   "cell_type": "markdown",
   "id": "67959d43",
   "metadata": {},
   "source": [
    "# Plot comparison"
   ]
  },
  {
   "cell_type": "code",
   "execution_count": 29,
   "id": "9d7651f0",
   "metadata": {},
   "outputs": [
    {
     "data": {
      "image/png": "[encoded data removed]",
      "text/plain": [
       "<Figure size 800x500 with 1 Axes>"
      ]
     },
     "metadata": {},
     "output_type": "display_data"
    }
   ],
   "source": [
    "plt.figure(figsize=(8, 5))\n",
    "labels = list(results.keys())\n",
    "rmse_vals = [results[k]['RMSE'] for k in labels]\n",
    "mae_vals = [results[k]['MAE'] for k in labels]\n",
    "\n",
    "x = np.arange(len(labels))\n",
    "width = 0.35\n",
    "\n",
    "plt.bar(x - width/2, rmse_vals, width, label='RMSE')\n",
    "plt.bar(x + width/2, mae_vals, width, label='MAE')\n",
    "\n",
    "plt.xticks(x, labels)\n",
    "plt.ylabel(\"Error\")\n",
    "plt.title(\"Comparison of Linear Regression Performance\")\n",
    "plt.legend()\n",
    "plt.tight_layout()\n",
    "plt.show()"
   ]
  }
 ],
 "metadata": {
  "kernelspec": {
   "display_name": "ryanair_regression",
   "language": "python",
   "name": "python3"
  },
  "language_info": {
   "codemirror_mode": {
    "name": "ipython",
    "version": 3
   },
   "file_extension": ".py",
   "mimetype": "text/x-python",
   "name": "python",
   "nbconvert_exporter": "python",
   "pygments_lexer": "ipython3",
   "version": "3.10.16"
  }
 },
 "nbformat": 4,
 "nbformat_minor": 5
}
