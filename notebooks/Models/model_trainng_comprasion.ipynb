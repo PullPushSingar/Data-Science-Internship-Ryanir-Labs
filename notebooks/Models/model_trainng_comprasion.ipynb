{
 "cells": [
  {
   "cell_type": "markdown",
   "id": "d14bb8d7",
   "metadata": {},
   "source": [
    "# Load Packages"
   ]
  },
  {
   "cell_type": "code",
   "execution_count": 1,
   "id": "5e7574be",
   "metadata": {},
   "outputs": [],
   "source": [
    "import pandas as pd\n",
    "import numpy as np\n",
    "from sklearn.model_selection import train_test_split\n",
    "from sklearn.impute import SimpleImputer\n",
    "from sklearn.preprocessing import StandardScaler, OneHotEncoder\n",
    "from sklearn.compose import ColumnTransformer\n",
    "from sklearn.pipeline import Pipeline\n",
    "from sklearn.metrics import root_mean_squared_error,mean_absolute_error\n",
    "from sklearn.linear_model import LinearRegression\n",
    "from sklearn.ensemble import RandomForestRegressor\n",
    "from xgboost import XGBRegressor"
   ]
  },
  {
   "cell_type": "markdown",
   "id": "ce3e5d30",
   "metadata": {},
   "source": [
    "# Paths to datasets\n"
   ]
  },
  {
   "cell_type": "code",
   "execution_count": 2,
   "id": "95b1a2d2",
   "metadata": {},
   "outputs": [],
   "source": [
    "paths = {\n",
    "    \"Raw\": \"../../data/processed/training_numeric_cleaned.csv\",\n",
    "    \"IQR\": \"../../data/processed/training_outlier_removed.csv\",\n",
    "    \"Winsorized\": \"../../data/processed/training_winsorized.csv\"\n",
    "}"
   ]
  },
  {
   "cell_type": "markdown",
   "id": "7e3f04b8",
   "metadata": {},
   "source": [
    "# Models\n"
   ]
  },
  {
   "cell_type": "code",
   "execution_count": 3,
   "id": "8053c084",
   "metadata": {},
   "outputs": [],
   "source": [
    "models = {\n",
    "    \"Linear Regression\": LinearRegression(),\n",
    "    \"Random Forest\": RandomForestRegressor(n_estimators=100, random_state=42),\n",
    "    \"XGBoost\": XGBRegressor(n_estimators=100, random_state=42)\n",
    "}"
   ]
  },
  {
   "cell_type": "markdown",
   "id": "4441a70f",
   "metadata": {},
   "source": [
    "# Run Methods"
   ]
  },
  {
   "cell_type": "code",
   "execution_count": 4,
   "id": "4b086dda",
   "metadata": {},
   "outputs": [
    {
     "name": "stdout",
     "output_type": "stream",
     "text": [
      "\n",
      "📁 Dataset version: Raw\n",
      "Linear Regression RMSE: 754.83 | MAE: 514.25\n",
      "Linear Regression RMSE: 754.83\n",
      "Random Forest RMSE: 825.93 | MAE: 601.18\n",
      "Random Forest RMSE: 825.93\n",
      "XGBoost RMSE: 770.70 | MAE: 562.27\n",
      "XGBoost RMSE: 770.70\n",
      "🔍 RMSE: 770.70 | MAE: 562.27\n",
      "\n",
      "📁 Dataset version: IQR\n",
      "Linear Regression RMSE: 709.64 | MAE: 496.39\n",
      "Linear Regression RMSE: 709.64\n",
      "Random Forest RMSE: 808.87 | MAE: 590.43\n",
      "Random Forest RMSE: 808.87\n",
      "XGBoost RMSE: 749.78 | MAE: 551.08\n",
      "XGBoost RMSE: 749.78\n",
      "🔍 RMSE: 749.78 | MAE: 551.08\n",
      "\n",
      "📁 Dataset version: Winsorized\n",
      "Linear Regression RMSE: 713.34 | MAE: 497.75\n",
      "Linear Regression RMSE: 713.34\n",
      "Random Forest RMSE: 814.14 | MAE: 589.98\n",
      "Random Forest RMSE: 814.14\n",
      "XGBoost RMSE: 763.65 | MAE: 552.81\n",
      "XGBoost RMSE: 763.65\n",
      "🔍 RMSE: 763.65 | MAE: 552.81\n"
     ]
    }
   ],
   "source": [
    "for version, path in paths.items():\n",
    "    print(f\"\\n📁 Dataset version: {version}\")\n",
    "    \n",
    "    # Wczytanie danych\n",
    "    df = pd.read_csv(path,sep=\"\\t\")\n",
    "    target = \"ActualTOW\"\n",
    "    X = df.drop(columns=target)\n",
    "    y = df[target]\n",
    "\n",
    "    # Podział na trening/test\n",
    "    X_train, X_test, y_train, y_test = train_test_split(X, y, test_size=0.2, random_state=42)\n",
    "\n",
    "    # Identyfikacja cech\n",
    "    numerical_features = X.select_dtypes(include=['int64', 'float64']).columns.tolist()\n",
    "    categorical_features = X.select_dtypes(include=['object']).columns.tolist()\n",
    "\n",
    "    # Transformery\n",
    "    numeric_transformer = Pipeline(steps=[\n",
    "        ('imputer', SimpleImputer(strategy='mean')),\n",
    "        ('scaler', StandardScaler())\n",
    "    ])\n",
    "    categorical_transformer = Pipeline(steps=[\n",
    "        ('imputer', SimpleImputer(strategy='most_frequent')),\n",
    "        ('onehot', OneHotEncoder(handle_unknown='ignore'))\n",
    "    ])\n",
    "    preprocessor = ColumnTransformer(\n",
    "        transformers=[\n",
    "            ('num', numeric_transformer, numerical_features),\n",
    "            ('cat', categorical_transformer, categorical_features)\n",
    "        ])\n",
    "    for model_name, model in models.items():\n",
    "        pipeline = Pipeline(steps=[\n",
    "            ('preprocessor', preprocessor),\n",
    "            ('regressor', model)\n",
    "        ])\n",
    "        pipeline.fit(X_train, y_train)\n",
    "        y_pred = pipeline.predict(X_test)\n",
    "        rmse = root_mean_squared_error(y_test, y_pred)\n",
    "        mae = mean_absolute_error(y_test, y_pred)\n",
    "        print(f\"{model_name} RMSE: {rmse:.2f} | MAE: {mae:.2f}\")\n",
    "        print(f\"{model_name} RMSE: {rmse:.2f}\")\n",
    "    print(f\"🔍 RMSE: {rmse:.2f} | MAE: {mae:.2f}\")"
   ]
  }
 ],
 "metadata": {
  "kernelspec": {
   "display_name": "ryanair_regression",
   "language": "python",
   "name": "python3"
  },
  "language_info": {
   "codemirror_mode": {
    "name": "ipython",
    "version": 3
   },
   "file_extension": ".py",
   "mimetype": "text/x-python",
   "name": "python",
   "nbconvert_exporter": "python",
   "pygments_lexer": "ipython3",
   "version": "3.10.16"
  }
 },
 "nbformat": 4,
 "nbformat_minor": 5
}
